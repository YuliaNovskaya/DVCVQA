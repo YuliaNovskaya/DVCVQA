{
 "cells": [
  {
   "cell_type": "code",
   "execution_count": 8,
   "metadata": {},
   "outputs": [],
   "source": [
    "import os \n",
    "\n",
    "path_with_videos = '/home/yulia/github/Project_DVCVQA_ver1/helping/download_videos_train_full/'\n",
    "txt_file = '/home/yulia/github/Project_DVCVQA_ver1/helping/video_id_train_full.txt'\n",
    "\n",
    "with open(txt_file, 'w') as f:\n",
    "    for i in os.listdir(path_with_videos):\n",
    "        f.write(i.split('.')[0] + '\\n')"
   ]
  },
  {
   "cell_type": "code",
   "execution_count": 7,
   "metadata": {},
   "outputs": [
    {
     "name": "stdout",
     "output_type": "stream",
     "text": [
      "[ 4  5  6  7  8  9 10 11 12 13 14 15 16 17 18 19 20 21 22 23 24 25 26 27\n",
      " 28 29 30 31 32 33 34 35 36 37 38 39 40 41 42 43 44 45 47 48 49 51 52 53\n",
      " 54 56 57 59 60 61 62 64 65 66 67 76]\n",
      "[ 12 226 550 735 900 828 861 826 733 746 643 640 572 495 488 376 281 268\n",
      " 209 168 133 100  62  60  46  30  39  49  27  17  16  15  12   8   7  11\n",
      "  12   8   4   7   4   5   4   5   2   4   1   2   1   3   2   1   2   1\n",
      "   1   1   2   1   1   1]\n"
     ]
    }
   ],
   "source": [
    "# caption embedding \n",
    "\n",
    "import numpy as np\n",
    "import json\n",
    "import os \n",
    "import pandas as pd\n",
    "import csv\n",
    "from pandas import Series, DataFrame\n",
    "import re\n",
    "import gensim\n",
    "import numpy as np\n",
    "\n",
    "\n",
    "def basic_clean_str(string):\n",
    "    \"\"\"Tokenization/string cleaning for a datasets.\n",
    "    \"\"\"\n",
    "    string = re.sub(r\"\\n\", \" \", string)         # '\\n'      --> ' '\n",
    "    string = re.sub(r\"\\'s\", \" \\'s\", string)      # it's      --> it 's\n",
    "    string = re.sub(r\"\\’s\", \" \\'s\", string)\n",
    "    string = re.sub(r\"\\'ve\", \" have\", string)   # they've   --> they have\n",
    "    string = re.sub(r\"\\’ve\", \" have\", string)\n",
    "    string = re.sub(r\"\\'t\", \" not\", string)    # can't     --> can not\n",
    "    string = re.sub(r\"\\’t\", \" not\", string)\n",
    "    string = re.sub(r\"\\'re\", \" are\", string)    # they're   --> they are\n",
    "    string = re.sub(r\"\\’re\", \" are\", string)\n",
    "    string = re.sub(r\"\\'d\", \"\", string)         # I'd (I had, I would) --> I\n",
    "    string = re.sub(r\"\\’d\", \"\", string)\n",
    "    string = re.sub(r\"\\'ll\", \" will\", string)   # I'll      --> I will\n",
    "    string = re.sub(r\"\\’ll\", \" will\", string)\n",
    "    string = re.sub(r\"\\“\", \"  \", string)       # “a”       --> “ a ”\n",
    "    string = re.sub(r\"\\”\", \"  \", string)\n",
    "    string = re.sub(r\"\\\"\", \"  \", string)       # \"a\"       --> \" a \"\n",
    "    string = re.sub(r\"\\'\", \"  \", string)        # they'     --> they '\n",
    "    string = re.sub(r\"\\’\", \"  \", string)        # they’     --> they ’\n",
    "    string = re.sub(r\"\\.\", \" . \", string)       # they.     --> they .\n",
    "    string = re.sub(r\"\\,\", \" , \", string)        # they,     --> they ,\n",
    "    string = re.sub(r\"\\!\", \" ! \", string)\n",
    "    string = re.sub(r\"\\(\", \"  \", string)       # (they)    --> ( they)\n",
    "    string = re.sub(r\"\\)\", \"  \", string)       # ( they)   --> ( they )\n",
    "    string = re.sub(r\"\\]\", \"  \", string)       # they]     --> they ]\n",
    "    string = re.sub(r\"\\[\", \"  \", string)       # they[     --> they [\n",
    "    string = re.sub(r\"\\?\", \"  \", string)       # they?     --> they ?\n",
    "    string = re.sub(r\"\\>\", \"  \", string)       # they>     --> they >\n",
    "    string = re.sub(r\"\\<\", \"  \", string)       # they<     --> they <\n",
    "    string = re.sub(r\"\\=\", \"  \", string)        # easier=   --> easier =\n",
    "    string = re.sub(r\"\\;\", \"  \", string)        # easier;   --> easier ;\n",
    "    string = re.sub(r\"\\;\", \"  \", string)\n",
    "    string = re.sub(r\"\\:\", \"  \", string)        # easier:   --> easier :\n",
    "    string = re.sub(r\"\\\"\", \"  \", string)      # easier\"   --> easier \"\n",
    "    string = re.sub(r\"\\$\", \"  \", string)       # $380      --> $ 380\n",
    "    string = re.sub(r\"\\_\", \"  \", string)        # _100     --> _ 100\n",
    "    return string.strip().lower()               # lowercase\n",
    "\n",
    "def prune_embedding(vocab_path, glove_path, embedding_path):\n",
    "\n",
    "    glove_model = gensim.models.KeyedVectors.load_word2vec_format(glove_path, binary=True)  \n",
    "    print(glove_model['with'].shape)\n",
    "\n",
    "def average_word(model, vocab):\n",
    "    \n",
    "    word_vector = np.zeros(300)\n",
    "    i = 0 \n",
    "    for word in vocab.keys():\n",
    "        if word in model:\n",
    "            word_vector += model[word]\n",
    "            i += 1 \n",
    "            \n",
    "    return word_vector/i\n",
    "\n",
    "   \n",
    "def preprocess_caption(sentence):\n",
    "    \n",
    "    sentence = basic_clean_str(sentence)\n",
    "    punctuations = [':', '!', '?', '.', ';', '(', ')', '-', '_', '\\n', '$', '.', ' . ']\n",
    "    # remove all punctuations\n",
    "    for p in punctuations:\n",
    "        sentence = sentence.replace(p, '')  # some notation should be kept in the vocab\n",
    "        \n",
    "    return sentence.lower().split()\n",
    "\n",
    "def preprocess_question(sentence):\n",
    "    \n",
    "    sentence = basic_clean_str(sentence)\n",
    "    punctuations = [':', '!', '?', '.', ';', '(', ')', '-', '_', '\\n', '$', '.', ' . ']\n",
    "    # remove all punctuations\n",
    "    for p in punctuations:\n",
    "        sentence = sentence.replace(p, '')  # some notation should be kept in the vocab\n",
    "        \n",
    "    return sentence.lower().strip()\n",
    "\n",
    "\n",
    "def caption_embedding(list_captions):\n",
    "    max_word = 0 \n",
    "    list_words = []\n",
    "    for i in range(len(list_captions)):\n",
    "        processed_caption = preprocess_caption(list_captions[i])\n",
    "        num_words = 0 \n",
    "        for word in processed_caption:\n",
    "            if len(word) >= 2:\n",
    "                vocab[word] = vocab.get(word, 0) + 1\n",
    "            num_words += 1\n",
    "        list_words.append(num_words)      \n",
    "        if(max_word < num_words): max_word = num_words\n",
    "#         if(num_words > 66) : print(processed_caption)\n",
    "    \n",
    "    return vocab, max_word, list_words\n",
    "\n",
    "\n",
    "resFile_video = '/home/yulia/github/Activity_net_whole/train_qa.json'\n",
    "data = json.load(open(resFile_video))\n",
    "caption_info = data['caption_info']\n",
    "videos = caption_info.items()\n",
    "max_num_captions = 12\n",
    "\n",
    "list_of_clips = []\n",
    "directory = '/home/yulia/github/Project_DVCVQA_ver1/helping/download_videos_train/'\n",
    "vocab_path = '/home/yulia/github/Project_DVCVQA_ver1/helping/data/vocab.txt'\n",
    "embedding_path = '/home/yulia/github/Project_DVCVQA_ver1/helping/data/word_embedding.npy'\n",
    "\n",
    "video_id_train = open(\"video_id_train_full.txt\",\"r\")\n",
    "caption_list_all = []\n",
    "vocab = dict()\n",
    "\n",
    "for video_id in video_id_train:\n",
    "    video_path = os.path.join(directory, video_id[:-1] + '.avi')\n",
    "    video_id = 'v_' + video_id[:-1]\n",
    "    list_timestamps = caption_info[video_id]['timestamps']\n",
    "    list_captions = caption_info[video_id]['sentences']\n",
    "    \n",
    "    \n",
    "    for i in range(len(list_captions)):\n",
    "        caption_list_all.append(list_captions[i])\n",
    "    \n",
    "vocab, max_word, list_words = caption_embedding(caption_list_all)\n",
    "values, counts = np.unique(list_words, return_counts=True)\n",
    "print(values)\n",
    "print(counts)\n",
    "\n",
    "ques_video = '/home/yulia/github/Activity_net_whole/activitynet-qa/dataset/train_q.json'\n",
    "ques_info_data = json.load(open(ques_video))\n",
    "\n",
    "question_list = []\n",
    "video_id2question_id = {}\n",
    "question_id2question_text = {}\n",
    "question_text2question_id = {}\n",
    "question_text2file = {}    \n",
    "\n",
    "video_id_train = open(\"video_id_train_full.txt\", \"r\")\n",
    "video_ids = ['v_' + video_id[:-1] for video_id in video_id_train]\n",
    "\n",
    "counter = 0 \n",
    "counter2question_text = {}\n",
    "for i in range(len(ques_info_data)):\n",
    "    video_id = 'v_' + ques_info_data[i]['video_name']\n",
    "    question_id = ques_info_data[i]['question_id']\n",
    "    question_text = preprocess_question(ques_info_data[i]['question'])\n",
    "    if video_id in video_ids:\n",
    "        video_id2question_id[video_id] = question_id\n",
    "        question_id2question_text[question_id] = question_text\n",
    "        question_text2question_id[question_text] = question_id\n",
    "        if question_text not in question_text2file.keys():\n",
    "            question_list.append(question_text)\n",
    "            question_text2file[question_text] = question_text            \n",
    "\n",
    "vocab1, max_word1, list_words1 = caption_embedding(question_list)\n",
    "values1, counts1 = np.unique(list_words1, return_counts=True)            "
   ]
  },
  {
   "cell_type": "code",
   "execution_count": 35,
   "metadata": {},
   "outputs": [
    {
     "name": "stdout",
     "output_type": "stream",
     "text": [
      "640\n",
      "15\n"
     ]
    },
    {
     "data": {
      "image/png": "[encoded data removed]",
      "text/plain": [
       "<Figure size 432x288 with 1 Axes>"
      ]
     },
     "metadata": {
      "needs_background": "light"
     },
     "output_type": "display_data"
    }
   ],
   "source": [
    "import matplotlib.pyplot as plt \n",
    "%matplotlib inline\n",
    "print(counts[11])\n",
    "print(values[11])\n",
    "\n",
    "plt.plot(values[:22], counts[:22])\n",
    "plt.show()"
   ]
  },
  {
   "cell_type": "code",
   "execution_count": 14,
   "metadata": {},
   "outputs": [
    {
     "data": {
      "image/png": "[encoded data removed]",
      "text/plain": [
       "<Figure size 432x288 with 1 Axes>"
      ]
     },
     "metadata": {
      "needs_background": "light"
     },
     "output_type": "display_data"
    }
   ],
   "source": [
    "import numpy as np\n",
    "import pandas as pd\n",
    "import seaborn as sns\n",
    "import matplotlib.pyplot as plt\n",
    "from scipy import stats\n",
    "x = np.random.normal(size=100)\n",
    "sns.distplot(list_words);"
   ]
  },
  {
   "cell_type": "code",
   "execution_count": 11,
   "metadata": {},
   "outputs": [
    {
     "name": "stdout",
     "output_type": "stream",
     "text": [
      "[ 3  4  5  6  7  8  9 10 11 12 13 14 15 16 17 18 19 20 24 27]\n",
      "[  12  202  768  942 1830 2982 2601 2773 2453 1551  943  548  192   91\n",
      "   49   23    7    2    1    1]\n"
     ]
    },
    {
     "data": {
      "image/png": "[encoded data removed]",
      "text/plain": [
       "<Figure size 432x288 with 1 Axes>"
      ]
     },
     "metadata": {
      "needs_background": "light"
     },
     "output_type": "display_data"
    }
   ],
   "source": [
    "#question\n",
    "import matplotlib.pyplot as plt \n",
    "%matplotlib inline\n",
    "print(values1)\n",
    "print(counts1)\n",
    "\n",
    "plt.plot(values1[:14], counts1[:14])\n",
    "plt.show()"
   ]
  },
  {
   "cell_type": "code",
   "execution_count": 10,
   "metadata": {},
   "outputs": [
    {
     "data": {
      "image/png": "[encoded data removed]",
      "text/plain": [
       "<Figure size 432x288 with 1 Axes>"
      ]
     },
     "metadata": {
      "needs_background": "light"
     },
     "output_type": "display_data"
    }
   ],
   "source": [
    "#question\n",
    "import numpy as np\n",
    "import pandas as pd\n",
    "import seaborn as sns\n",
    "import matplotlib.pyplot as plt\n",
    "from scipy import stats\n",
    "x = np.random.normal(size=100)\n",
    "sns.distplot(list_words1);"
   ]
  },
  {
   "cell_type": "code",
   "execution_count": null,
   "metadata": {},
   "outputs": [],
   "source": []
  }
 ],
 "metadata": {
  "kernelspec": {
   "display_name": "Python 3",
   "language": "python",
   "name": "python3"
  },
  "language_info": {
   "codemirror_mode": {
    "name": "ipython",
    "version": 3
   },
   "file_extension": ".py",
   "mimetype": "text/x-python",
   "name": "python",
   "nbconvert_exporter": "python",
   "pygments_lexer": "ipython3",
   "version": "3.6.8"
  }
 },
 "nbformat": 4,
 "nbformat_minor": 2
}
